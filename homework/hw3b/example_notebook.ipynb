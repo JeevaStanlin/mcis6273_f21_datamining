{
 "cells": [
  {
   "cell_type": "markdown",
   "metadata": {},
   "source": [
    "# HW3b Example Notebook"
   ]
  },
  {
   "cell_type": "code",
   "execution_count": 8,
   "metadata": {},
   "outputs": [],
   "source": [
    "from sklearn.feature_extraction.text import TfidfVectorizer\n",
    "from sklearn.naive_bayes import MultinomialNB"
   ]
  },
  {
   "cell_type": "code",
   "execution_count": 20,
   "metadata": {},
   "outputs": [
    {
     "data": {
      "text/plain": [
       "MultinomialNB()"
      ]
     },
     "execution_count": 20,
     "metadata": {},
     "output_type": "execute_result"
    }
   ],
   "source": [
    "# uncomment this to train on the corpori given\n",
    "# \n",
    "file_list = [\n",
    "     open(\"data/train/compsci.txt\"),\n",
    "     open(\"data/train/sociology.txt\"),\n",
    "     open(\"data/train/education.txt\"),\n",
    "     open(\"data/train/physics.txt\"),\n",
    "     open(\"data/train/economics.txt\")\n",
    " ]\n",
    "\n",
    "vectorizer = TfidfVectorizer(input='file', stop_words='english')\n",
    "\n",
    "# set the vectorizer representation of the input documents and their target classes\n",
    "X_train = vectorizer.fit_transform(file_list)\n",
    "y_train = ['compsci', 'sociology', 'education', 'physics', 'economics']\n",
    "\n",
    "# build the classifier\n",
    "clf = MultinomialNB()\n",
    "clf.fit(X_train, y_train)\n"
   ]
  },
  {
   "cell_type": "markdown",
   "metadata": {},
   "source": [
    "### Your test set loading code\n",
    "\n",
    "You will write a cell that uses `glob` to load all the files in `data/test` into a list of file objects.\n",
    "\n",
    "An example of a file object:\n",
    "\n",
    "```python\n",
    "fobj_lst = [open(\"data/test/compsci00.txt\")]\n",
    "```\n",
    "\n",
    "You will just need to make a list of **all** the files in the `data/test` folder and it can be done with a list comprehension or a `for` loop.\n",
    "\n",
    "After you have assembled this list, you will be able to run `vectorizer.transform(fobj_lst)` and then pass that object to the `predict()` function of the classifier."
   ]
  },
  {
   "cell_type": "code",
   "execution_count": 21,
   "metadata": {},
   "outputs": [],
   "source": [
    "### your code goes here, it will build the file list, store the result of \n",
    "### transform in a variable \n",
    "fobj_list = [\n",
    "     open(\"data/test/compsci00.txt\"),\n",
    "     open(\"data/test/sociology00.txt\"),\n",
    "     open(\"data/test/education00.txt\"),\n",
    "     open(\"data/test/physics00.txt\"),\n",
    "     open(\"data/test/economics00.txt\")\n",
    " ]\n",
    "\n",
    "X_test = vectorizer.transform(fobj_list)\n",
    "\n"
   ]
  },
  {
   "cell_type": "markdown",
   "metadata": {},
   "source": [
    "### Your test set classification / prediction code"
   ]
  },
  {
   "cell_type": "code",
   "execution_count": 22,
   "metadata": {},
   "outputs": [
    {
     "data": {
      "text/plain": [
       "array(['sociology', 'sociology', 'sociology', 'physics', 'economics'],\n",
       "      dtype='<U9')"
      ]
     },
     "execution_count": 22,
     "metadata": {},
     "output_type": "execute_result"
    }
   ],
   "source": [
    "### Now you will execute predict on the classifier to get the list of \n",
    "### corresponding classes for the documents you're trying to classify\n",
    "clf.predict(X_test)"
   ]
  },
  {
   "cell_type": "code",
   "execution_count": 23,
   "metadata": {},
   "outputs": [],
   "source": []
  },
  {
   "cell_type": "code",
   "execution_count": 2,
   "metadata": {},
   "outputs": [
    {
     "name": "stdout",
     "output_type": "stream",
     "text": [
      "Collecting semanticscholar\n",
      "  Using cached semanticscholar-0.2.1-py3-none-any.whl (5.0 kB)\n",
      "Requirement already satisfied: requests in /opt/conda/lib/python3.9/site-packages (from semanticscholar) (2.26.0)\n",
      "Collecting tenacity\n",
      "  Using cached tenacity-8.0.1-py3-none-any.whl (24 kB)\n",
      "Requirement already satisfied: charset-normalizer~=2.0.0 in /opt/conda/lib/python3.9/site-packages (from requests->semanticscholar) (2.0.0)\n",
      "Requirement already satisfied: urllib3<1.27,>=1.21.1 in /opt/conda/lib/python3.9/site-packages (from requests->semanticscholar) (1.26.7)\n",
      "Requirement already satisfied: certifi>=2017.4.17 in /opt/conda/lib/python3.9/site-packages (from requests->semanticscholar) (2021.10.8)\n",
      "Requirement already satisfied: idna<4,>=2.5 in /opt/conda/lib/python3.9/site-packages (from requests->semanticscholar) (3.1)\n",
      "Installing collected packages: tenacity, semanticscholar\n",
      "Successfully installed semanticscholar-0.2.1 tenacity-8.0.1\n"
     ]
    }
   ],
   "source": [
    "#!pip install semanticscholar\n",
    "#import time\n",
    "#from semanticscholar import SemanticScholar\n",
    "#sch = SemanticScholar()\n",
    "#with open(\"data/seed_doi_compsci.txt\", \"r\") as input:\n",
    "#    with open(\"data/train/compsci_extended.txt\", \"w+\") as output:\n",
    "#        for line in input:\n",
    "#            time.sleep(5)\n",
    "#            paper = sch.paper(line)\n",
    "#            if paper.get('abstract', False):\n",
    "#                output.write(paper['abstract']+\"\\n\")\n",
    "#            else:\n",
    "#                pass"
   ]
  },
  {
   "cell_type": "code",
   "execution_count": 13,
   "metadata": {},
   "outputs": [
    {
     "data": {
      "text/plain": [
       "MultinomialNB()"
      ]
     },
     "execution_count": 13,
     "metadata": {},
     "output_type": "execute_result"
    }
   ],
   "source": [
    "# uncomment this to train on the corpori given\n",
    "# \n",
    "file_extnd = [\n",
    "     open(\"data/train/compsci_extended.txt\"),\n",
    "     open(\"data/train/sociology.txt\"),\n",
    "     open(\"data/train/education.txt\"),\n",
    "     open(\"data/train/physics.txt\"),\n",
    "     open(\"data/train/economics.txt\")\n",
    " ]\n",
    "\n",
    "vectorizer = TfidfVectorizer(input='file', stop_words='english')\n",
    "\n",
    "# set the vectorizer representation of the input documents and their target classes\n",
    "X_train = vectorizer.fit_transform(file_extnd)\n",
    "y_train = ['compsci', 'sociology', 'education', 'physics', 'economics']\n",
    "\n",
    "# build the classifier\n",
    "clf = MultinomialNB()\n",
    "clf.fit(X_train, y_train)\n"
   ]
  },
  {
   "cell_type": "code",
   "execution_count": 14,
   "metadata": {},
   "outputs": [],
   "source": [
    "### your code goes here, it will build the file list, store the result of \n",
    "### transform in a variable \n",
    "fobj_list = [\n",
    "     open(\"data/test/compsci_extended00.txt\"),\n",
    "     open(\"data/test/sociology00.txt\"),\n",
    "     open(\"data/test/education00.txt\"),\n",
    "     open(\"data/test/physics00.txt\"),\n",
    "     open(\"data/test/economics00.txt\")\n",
    " ]\n",
    "\n",
    "X_test = vectorizer.transform(fobj_list)"
   ]
  },
  {
   "cell_type": "code",
   "execution_count": 15,
   "metadata": {},
   "outputs": [
    {
     "data": {
      "text/plain": [
       "array(['compsci', 'sociology', 'sociology', 'physics', 'economics'],\n",
       "      dtype='<U9')"
      ]
     },
     "execution_count": 15,
     "metadata": {},
     "output_type": "execute_result"
    }
   ],
   "source": [
    "### Now you will execute predict on the classifier to get the list of \n",
    "### corresponding classes for the documents you're trying to classify\n",
    "clf.predict(X_test)"
   ]
  },
  {
   "cell_type": "code",
   "execution_count": 17,
   "metadata": {},
   "outputs": [
    {
     "data": {
      "text/plain": [
       "array([[29.54138246, 17.13788437, 17.45233371, 17.09508802, 18.77331145],\n",
       "       [19.4815112 , 19.71521212, 19.93873022, 19.50815741, 21.35638906],\n",
       "       [19.29221157, 20.71765498, 19.45066783, 19.22908869, 21.31037694],\n",
       "       [19.83511255, 19.78300193, 19.80388019, 20.85277805, 19.72522728],\n",
       "       [19.32013062, 21.96823133, 19.44971493, 19.24719336, 20.01472977]])"
      ]
     },
     "execution_count": 17,
     "metadata": {},
     "output_type": "execute_result"
    }
   ],
   "source": [
    "clf.predict_proba(X_test)*100"
   ]
  },
  {
   "cell_type": "code",
   "execution_count": null,
   "metadata": {},
   "outputs": [],
   "source": []
  }
 ],
 "metadata": {
  "kernelspec": {
   "display_name": "Python 3 (ipykernel)",
   "language": "python",
   "name": "python3"
  },
  "language_info": {
   "codemirror_mode": {
    "name": "ipython",
    "version": 3
   },
   "file_extension": ".py",
   "mimetype": "text/x-python",
   "name": "python",
   "nbconvert_exporter": "python",
   "pygments_lexer": "ipython3",
   "version": "3.9.7"
  }
 },
 "nbformat": 4,
 "nbformat_minor": 4
}
