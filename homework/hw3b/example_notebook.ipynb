{
 "cells": [
  {
   "cell_type": "markdown",
   "metadata": {},
   "source": [
    "# HW3b Example Notebook"
   ]
  },
  {
   "cell_type": "code",
   "execution_count": null,
   "metadata": {},
   "outputs": [],
   "source": [
    "from sklearn.feature_extraction.text import TfidfVectorizer\n",
    "from sklearn.naive_bayes import MultinomialNB"
   ]
  },
  {
   "cell_type": "code",
   "execution_count": null,
   "metadata": {},
   "outputs": [],
   "source": [
    "# uncomment this to train on the corpori given\n",
    "# \n",
    "# file_list = [\n",
    "#     open(\"data/train/compsci.txt\"),\n",
    "#     open(\"data/train/sociology.txt\"),\n",
    "#     open(\"data/train/education.txt\"),\n",
    "#     open(\"data/train/physics.txt\"),\n",
    "#     open(\"data/train/economics.txt\")\n",
    "# ]\n",
    "\n",
    "vectorizer = TfidfVectorizer(input='file', stop_words='english')\n",
    "\n",
    "# set the vectorizer representation of the input documents and their target classes\n",
    "X_train = vectorizer.fit_transform(file_list)\n",
    "y_train = ['compsci', 'sociology', 'education', 'physics', 'economics']\n",
    "\n",
    "# build the classifier\n",
    "clf = MultinomialNB()\n",
    "clf.fit(X_train, y_train)"
   ]
  },
  {
   "cell_type": "markdown",
   "metadata": {},
   "source": [
    "### Your test set loading code\n",
    "\n",
    "You will write a cell that uses `glob` to load all the files in `data/test` into a list of file objects.\n",
    "\n",
    "An example of a file object:\n",
    "\n",
    "```python\n",
    "fobj_lst = [open(\"data/test/compsci00.txt\")]\n",
    "```\n",
    "\n",
    "You will just need to make a list of **all** the files in the `data/test` folder and it can be done with a list comprehension or a `for` loop.\n",
    "\n",
    "After you have assembled this list, you will be able to run `vectorizer.transform(fobj_lst)` and then pass that object to the `predict()` function of the classifier."
   ]
  },
  {
   "cell_type": "code",
   "execution_count": null,
   "metadata": {},
   "outputs": [],
   "source": [
    "### your code goes here, it will build the file list, store the result of \n",
    "### transform in a variable "
   ]
  },
  {
   "cell_type": "markdown",
   "metadata": {},
   "source": [
    "### Your test set classification / prediction code"
   ]
  },
  {
   "cell_type": "code",
   "execution_count": null,
   "metadata": {},
   "outputs": [],
   "source": [
    "### Now you will execute predict on the classifier to get the list of \n",
    "### corresponding classes for the documents you're trying to classify"
   ]
  }
 ],
 "metadata": {
  "kernelspec": {
   "display_name": "Python 3",
   "language": "python",
   "name": "python3"
  },
  "language_info": {
   "codemirror_mode": {
    "name": "ipython",
    "version": 3
   },
   "file_extension": ".py",
   "mimetype": "text/x-python",
   "name": "python",
   "nbconvert_exporter": "python",
   "pygments_lexer": "ipython3",
   "version": "3.8.5"
  }
 },
 "nbformat": 4,
 "nbformat_minor": 4
}
